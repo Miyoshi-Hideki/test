{
  "nbformat": 4,
  "nbformat_minor": 0,
  "metadata": {
    "colab": {
      "name": "EBPM研究会",
      "provenance": [],
      "authorship_tag": "ABX9TyPbLy8xtDe91PAawGSHQF97",
      "include_colab_link": true
    },
    "kernelspec": {
      "name": "python3",
      "display_name": "Python 3"
    },
    "language_info": {
      "name": "python"
    }
  },
  "cells": [
    {
      "cell_type": "markdown",
      "metadata": {
        "id": "view-in-github",
        "colab_type": "text"
      },
      "source": [
        "<a href=\"https://colab.research.google.com/github/Miyoshi-Hideki/test/blob/main/EBPM%E7%A0%94%E7%A9%B6%E4%BC%9A.ipynb\" target=\"_parent\"><img src=\"https://colab.research.google.com/assets/colab-badge.svg\" alt=\"Open In Colab\"/></a>"
      ]
    },
    {
      "cell_type": "code",
      "metadata": {
        "id": "Iwiz5y1CMlH6"
      },
      "source": [
        ""
      ],
      "execution_count": null,
      "outputs": []
    },
    {
      "cell_type": "markdown",
      "metadata": {
        "id": "IM9l7ztVMve9"
      },
      "source": [
        "$$y=2x+1$$\n",
        "$$y=\\prod_{k=1}^n a_k$$\n",
        "$$y=x^3 + \\sqrt x + \\frac{a_{ij}}{b_{ij}^4} - \\sum_{k=1}^n a_k$$\n",
        "という形でgoogle colaboでは、Latexが使用できるので、便利ではないか。"
      ]
    }
  ]
}